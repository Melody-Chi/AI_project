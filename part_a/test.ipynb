{
 "cells": [
  {
   "cell_type": "code",
   "execution_count": 22,
   "metadata": {},
   "outputs": [
    {
     "name": "stdout",
     "output_type": "stream",
     "text": [
      "{(5, 6): ('r', 2), (1, 0): ('b', 2), (1, 1): ('b', 1), (3, 2): ('b', 1), (1, 3): ('b', 3)}\n",
      "去掉c后的board=  {(1, 0): ('b', 2), (1, 1): ('b', 1), (3, 2): ('b', 1), (1, 3): ('b', 3), (3, 0): ('r', 1), (0, 4): ('r', 1)}\n",
      "{(1, 0): ('b', 2), (1, 1): ('b', 1), (3, 2): ('b', 1), (1, 3): ('b', 3), (3, 0): ('r', 1), (0, 4): ('r', 1)}\n",
      "                        (6,0)    \n",
      "                    (5,0)    (6,1)    \n",
      "                (4,0)    (5,1)    (6,2)    \n",
      "            \u001b[31m r1 \u001b[0m    (4,1)    (5,2)    (6,3)    \n",
      "        (2,0)    (3,1)    (4,2)    (5,3)    (6,4)    \n",
      "    \u001b[34m b2 \u001b[0m    (2,1)    \u001b[34m b1 \u001b[0m    (4,3)    (5,4)    (6,5)    \n",
      "(0,0)    \u001b[34m b1 \u001b[0m    (2,2)    (3,3)    (4,4)    (5,5)    (6,6)    \n",
      "    (0,1)    (1,2)    (2,3)    (3,4)    (4,5)    (5,6)    \n",
      "        (0,2)    \u001b[34m b3 \u001b[0m    (2,4)    (3,5)    (4,6)    \n",
      "            (0,3)    (1,4)    (2,5)    (3,6)    \n",
      "                \u001b[31m r1 \u001b[0m    (1,5)    (2,6)    \n",
      "                    (0,5)    (1,6)    \n",
      "                        (0,6)    \n",
      "\n",
      "SPREAD 5 6 -1 1\n",
      "SPREAD 3 1 0 1\n",
      "SPREAD 3 2 -1 1\n",
      "SPREAD 1 4 0 -1\n",
      "SPREAD 1 3 0 -1\n"
     ]
    }
   ],
   "source": [
    "import search\n",
    "!python3 -m search < test.csv"
   ]
  }
 ],
 "metadata": {
  "kernelspec": {
   "display_name": "Python 3",
   "language": "python",
   "name": "python3"
  },
  "language_info": {
   "codemirror_mode": {
    "name": "ipython",
    "version": 3
   },
   "file_extension": ".py",
   "mimetype": "text/x-python",
   "name": "python",
   "nbconvert_exporter": "python",
   "pygments_lexer": "ipython3",
   "version": "3.10.7"
  },
  "orig_nbformat": 4
 },
 "nbformat": 4,
 "nbformat_minor": 2
}
