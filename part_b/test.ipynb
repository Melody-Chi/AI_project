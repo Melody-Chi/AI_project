{
 "cells": [
  {
   "cell_type": "code",
   "execution_count": 1,
   "metadata": {},
   "outputs": [
    {
     "name": "stdout",
     "output_type": "stream",
     "text": [
      "Testing: I am playing as red\n",
      "action=  SPAWN(6, 0)\n",
      "Testing: RED SPAWN at 6-0\n"
     ]
    }
   ],
   "source": [
    "from agent import program\n",
    "from agent import Agent\n",
    "from referee.game import PlayerColor, constants\n",
    "\n",
    "agentA = Agent(PlayerColor.RED)\n",
    "# print(\"agent= \", agentA)\n",
    "\n",
    "actionA = agentA.action()\n",
    "print(\"action= \", actionA)\n",
    "\n",
    "turnA = agentA.turn(PlayerColor.RED, actionA)"
   ]
  },
  {
   "cell_type": "code",
   "execution_count": 2,
   "metadata": {},
   "outputs": [
    {
     "name": "stdout",
     "output_type": "stream",
     "text": [
      "Testing: I am playing as blue\n",
      "action=  SPAWN(6, 0)\n",
      "Testing: BLUE SPAWN at 6-0\n"
     ]
    }
   ],
   "source": [
    "agentB = Agent(PlayerColor.BLUE)\n",
    "# print(\"agent= \", agentB)\n",
    "\n",
    "actionB = agentB.action()\n",
    "print(\"action= \", actionB)\n",
    "\n",
    "turnB = agentB.turn(PlayerColor.BLUE, actionB)"
   ]
  },
  {
   "cell_type": "code",
   "execution_count": 3,
   "metadata": {},
   "outputs": [],
   "source": [
    "# !python3 -m referee agent agent"
   ]
  },
  {
   "cell_type": "code",
   "execution_count": 4,
   "metadata": {},
   "outputs": [
    {
     "name": "stdout",
     "output_type": "stream",
     "text": [
      "                         ..     \n",
      "                     ..      ..     \n",
      "                 ..      ..      ..     \n",
      "             ..      ..      ..      ..     \n",
      "         ..      ..      ..      ..      ..     \n",
      "     ..      ..      ..      ..      ..      ..     \n",
      " ..      r1      ..      ..      ..      ..      ..     \n",
      "     ..      ..      ..      ..      ..      ..     \n",
      "         ..      ..      ..      ..      ..     \n",
      "             ..      ..      ..      ..     \n",
      "                 ..      ..      ..     \n",
      "                     ..      ..     \n",
      "                         ..     \n",
      "\n"
     ]
    }
   ],
   "source": [
    "from agent import Agent\n",
    "from referee.game import Board, SpawnAction, SpreadAction, HexPos, HexDir, PlayerColor\n",
    "\n",
    "my_board = Board()\n",
    "action_1 = SpawnAction(HexPos(1,1))\n",
    "\n",
    "my_board.apply_action(action_1)\n",
    "\n",
    "print(my_board.render())\n"
   ]
  },
  {
   "cell_type": "code",
   "execution_count": 5,
   "metadata": {},
   "outputs": [],
   "source": [
    "# action_2 = SpawnAction(HexPos(2,2))\n",
    "\n",
    "# my_board.apply_action(action_2)\n",
    "\n",
    "# print(my_board.render())\n",
    "# print(f\"Current colour is: {my_board._turn_color}\")"
   ]
  },
  {
   "cell_type": "code",
   "execution_count": 6,
   "metadata": {},
   "outputs": [],
   "source": [
    "# action_3 = SpawnAction(HexPos(1,2))\n",
    "\n",
    "# my_board.apply_action(action_3)\n",
    "\n",
    "# print(my_board.render())\n",
    "# print(f\"Current colour is: {my_board._turn_color}\")"
   ]
  },
  {
   "cell_type": "code",
   "execution_count": 7,
   "metadata": {},
   "outputs": [],
   "source": [
    "# action_4 = SpawnAction(HexPos(1,3))\n",
    "\n",
    "# my_board.apply_action(action_4)\n",
    "\n",
    "# print(my_board.render())\n",
    "# print(f\"Current colour is: {my_board._turn_color}\")"
   ]
  },
  {
   "cell_type": "code",
   "execution_count": 8,
   "metadata": {},
   "outputs": [],
   "source": [
    "# action_5 = SpreadAction(HexPos(1,2), HexDir.UpLeft)\n",
    "\n",
    "# my_board.apply_action(action_5)\n",
    "\n",
    "# print(my_board.render())\n",
    "# print(f\"Current colour is: {my_board._turn_color}\")"
   ]
  },
  {
   "cell_type": "markdown",
   "metadata": {},
   "source": []
  },
  {
   "cell_type": "code",
   "execution_count": 9,
   "metadata": {},
   "outputs": [
    {
     "data": {
      "text/plain": [
       "defaultdict(<function referee.game.board.Board.__init__.<locals>.<lambda>()>,\n",
       "            {HexPos(r=1, q=1): CellState(player=<PlayerColor.RED: 0>, power=1),\n",
       "             HexPos(r=6, q=0): CellState(player=None, power=0),\n",
       "             HexPos(r=5, q=0): CellState(player=None, power=0),\n",
       "             HexPos(r=6, q=1): CellState(player=None, power=0),\n",
       "             HexPos(r=4, q=0): CellState(player=None, power=0),\n",
       "             HexPos(r=5, q=1): CellState(player=None, power=0),\n",
       "             HexPos(r=6, q=2): CellState(player=None, power=0),\n",
       "             HexPos(r=3, q=0): CellState(player=None, power=0),\n",
       "             HexPos(r=4, q=1): CellState(player=None, power=0),\n",
       "             HexPos(r=5, q=2): CellState(player=None, power=0),\n",
       "             HexPos(r=6, q=3): CellState(player=None, power=0),\n",
       "             HexPos(r=2, q=0): CellState(player=None, power=0),\n",
       "             HexPos(r=3, q=1): CellState(player=None, power=0),\n",
       "             HexPos(r=4, q=2): CellState(player=None, power=0),\n",
       "             HexPos(r=5, q=3): CellState(player=None, power=0),\n",
       "             HexPos(r=6, q=4): CellState(player=None, power=0),\n",
       "             HexPos(r=1, q=0): CellState(player=None, power=0),\n",
       "             HexPos(r=2, q=1): CellState(player=None, power=0),\n",
       "             HexPos(r=3, q=2): CellState(player=None, power=0),\n",
       "             HexPos(r=4, q=3): CellState(player=None, power=0),\n",
       "             HexPos(r=5, q=4): CellState(player=None, power=0),\n",
       "             HexPos(r=6, q=5): CellState(player=None, power=0),\n",
       "             HexPos(r=0, q=0): CellState(player=None, power=0),\n",
       "             HexPos(r=2, q=2): CellState(player=None, power=0),\n",
       "             HexPos(r=3, q=3): CellState(player=None, power=0),\n",
       "             HexPos(r=4, q=4): CellState(player=None, power=0),\n",
       "             HexPos(r=5, q=5): CellState(player=None, power=0),\n",
       "             HexPos(r=6, q=6): CellState(player=None, power=0),\n",
       "             HexPos(r=0, q=1): CellState(player=None, power=0),\n",
       "             HexPos(r=1, q=2): CellState(player=None, power=0),\n",
       "             HexPos(r=2, q=3): CellState(player=None, power=0),\n",
       "             HexPos(r=3, q=4): CellState(player=None, power=0),\n",
       "             HexPos(r=4, q=5): CellState(player=None, power=0),\n",
       "             HexPos(r=5, q=6): CellState(player=None, power=0),\n",
       "             HexPos(r=0, q=2): CellState(player=None, power=0),\n",
       "             HexPos(r=1, q=3): CellState(player=None, power=0),\n",
       "             HexPos(r=2, q=4): CellState(player=None, power=0),\n",
       "             HexPos(r=3, q=5): CellState(player=None, power=0),\n",
       "             HexPos(r=4, q=6): CellState(player=None, power=0),\n",
       "             HexPos(r=0, q=3): CellState(player=None, power=0),\n",
       "             HexPos(r=1, q=4): CellState(player=None, power=0),\n",
       "             HexPos(r=2, q=5): CellState(player=None, power=0),\n",
       "             HexPos(r=3, q=6): CellState(player=None, power=0),\n",
       "             HexPos(r=0, q=4): CellState(player=None, power=0),\n",
       "             HexPos(r=1, q=5): CellState(player=None, power=0),\n",
       "             HexPos(r=2, q=6): CellState(player=None, power=0),\n",
       "             HexPos(r=0, q=5): CellState(player=None, power=0),\n",
       "             HexPos(r=1, q=6): CellState(player=None, power=0),\n",
       "             HexPos(r=0, q=6): CellState(player=None, power=0)})"
      ]
     },
     "execution_count": 9,
     "metadata": {},
     "output_type": "execute_result"
    }
   ],
   "source": [
    "my_board._state"
   ]
  },
  {
   "cell_type": "code",
   "execution_count": 10,
   "metadata": {},
   "outputs": [],
   "source": [
    "# 提取所有棋子颜色的坐标 & 空坐标，并存在list里面\n",
    "from typing import List, Optional\n",
    "\n",
    "def extract_positions(board, color: Optional[PlayerColor] = None) -> List[HexPos]:\n",
    "    positions = []\n",
    "\n",
    "    for position, cell_state in board._state.items():\n",
    "        if color is None and cell_state.player is None:  # Extract empty positions\n",
    "            positions.append(position)\n",
    "        elif cell_state.player == color:  # Extract colored positions\n",
    "            positions.append(position)\n",
    "\n",
    "    return positions\n"
   ]
  },
  {
   "cell_type": "code",
   "execution_count": 11,
   "metadata": {},
   "outputs": [
    {
     "data": {
      "text/plain": [
       "[HexPos(r=1, q=1)]"
      ]
     },
     "execution_count": 11,
     "metadata": {},
     "output_type": "execute_result"
    }
   ],
   "source": [
    "red_list = extract_positions(my_board, PlayerColor.RED)\n",
    "red_list"
   ]
  },
  {
   "cell_type": "code",
   "execution_count": 12,
   "metadata": {},
   "outputs": [
    {
     "data": {
      "text/plain": [
       "[]"
      ]
     },
     "execution_count": 12,
     "metadata": {},
     "output_type": "execute_result"
    }
   ],
   "source": [
    "blue_list = extract_positions(my_board, PlayerColor.BLUE)\n",
    "blue_list"
   ]
  },
  {
   "cell_type": "code",
   "execution_count": 13,
   "metadata": {},
   "outputs": [],
   "source": [
    "# 给每个棋子都设定6个方向的spread\n",
    "def generate_spread_actions(color, board) -> List[SpreadAction]:\n",
    "    colored_positions = extract_positions(board, color)\n",
    "    spread_actions = []\n",
    "\n",
    "    for position in colored_positions:\n",
    "        for direction in HexDir:\n",
    "            neighbor_pos = position + direction\n",
    "            if board._within_bounds(neighbor_pos):\n",
    "                spread_action = SpreadAction(cell=position, direction=direction)\n",
    "                spread_actions.append(spread_action)\n",
    "\n",
    "    return spread_actions\n"
   ]
  },
  {
   "cell_type": "code",
   "execution_count": 14,
   "metadata": {},
   "outputs": [
    {
     "data": {
      "text/plain": [
       "[SpreadAction(cell=HexPos(r=1, q=1), direction=<HexDir.DownRight: HexVec(r=0, q=1)>),\n",
       " SpreadAction(cell=HexPos(r=1, q=1), direction=<HexDir.Down: HexVec(r=-1, q=1)>),\n",
       " SpreadAction(cell=HexPos(r=1, q=1), direction=<HexDir.DownLeft: HexVec(r=-1, q=0)>),\n",
       " SpreadAction(cell=HexPos(r=1, q=1), direction=<HexDir.UpLeft: HexVec(r=0, q=-1)>),\n",
       " SpreadAction(cell=HexPos(r=1, q=1), direction=<HexDir.Up: HexVec(r=1, q=-1)>),\n",
       " SpreadAction(cell=HexPos(r=1, q=1), direction=<HexDir.UpRight: HexVec(r=1, q=0)>)]"
      ]
     },
     "execution_count": 14,
     "metadata": {},
     "output_type": "execute_result"
    }
   ],
   "source": [
    "red_spread = generate_spread_actions(PlayerColor.RED, my_board)\n",
    "red_spread"
   ]
  },
  {
   "cell_type": "code",
   "execution_count": 15,
   "metadata": {},
   "outputs": [
    {
     "data": {
      "text/plain": [
       "[]"
      ]
     },
     "execution_count": 15,
     "metadata": {},
     "output_type": "execute_result"
    }
   ],
   "source": [
    "blue_spread = generate_spread_actions(PlayerColor.BLUE, my_board)\n",
    "blue_spread"
   ]
  },
  {
   "cell_type": "code",
   "execution_count": 16,
   "metadata": {},
   "outputs": [],
   "source": [
    "# SPAWN actions\n",
    "def generate_spawn_actions(color, board) -> List[SpawnAction]:\n",
    "    spawn_actions = []\n",
    "    empty_list = extract_positions(board)\n",
    "\n",
    "    for position in empty_list:\n",
    "        if board._within_bounds(position):\n",
    "            spawn_action = SpawnAction(cell=position)\n",
    "            spawn_actions.append(spawn_action)\n",
    "\n",
    "    return spawn_actions\n"
   ]
  },
  {
   "cell_type": "code",
   "execution_count": 17,
   "metadata": {},
   "outputs": [
    {
     "data": {
      "text/plain": [
       "[SpawnAction(cell=HexPos(r=6, q=0)),\n",
       " SpawnAction(cell=HexPos(r=5, q=0)),\n",
       " SpawnAction(cell=HexPos(r=6, q=1)),\n",
       " SpawnAction(cell=HexPos(r=4, q=0)),\n",
       " SpawnAction(cell=HexPos(r=5, q=1)),\n",
       " SpawnAction(cell=HexPos(r=6, q=2)),\n",
       " SpawnAction(cell=HexPos(r=3, q=0)),\n",
       " SpawnAction(cell=HexPos(r=4, q=1)),\n",
       " SpawnAction(cell=HexPos(r=5, q=2)),\n",
       " SpawnAction(cell=HexPos(r=6, q=3)),\n",
       " SpawnAction(cell=HexPos(r=2, q=0)),\n",
       " SpawnAction(cell=HexPos(r=3, q=1)),\n",
       " SpawnAction(cell=HexPos(r=4, q=2)),\n",
       " SpawnAction(cell=HexPos(r=5, q=3)),\n",
       " SpawnAction(cell=HexPos(r=6, q=4)),\n",
       " SpawnAction(cell=HexPos(r=1, q=0)),\n",
       " SpawnAction(cell=HexPos(r=2, q=1)),\n",
       " SpawnAction(cell=HexPos(r=3, q=2)),\n",
       " SpawnAction(cell=HexPos(r=4, q=3)),\n",
       " SpawnAction(cell=HexPos(r=5, q=4)),\n",
       " SpawnAction(cell=HexPos(r=6, q=5)),\n",
       " SpawnAction(cell=HexPos(r=0, q=0)),\n",
       " SpawnAction(cell=HexPos(r=2, q=2)),\n",
       " SpawnAction(cell=HexPos(r=3, q=3)),\n",
       " SpawnAction(cell=HexPos(r=4, q=4)),\n",
       " SpawnAction(cell=HexPos(r=5, q=5)),\n",
       " SpawnAction(cell=HexPos(r=6, q=6)),\n",
       " SpawnAction(cell=HexPos(r=0, q=1)),\n",
       " SpawnAction(cell=HexPos(r=1, q=2)),\n",
       " SpawnAction(cell=HexPos(r=2, q=3)),\n",
       " SpawnAction(cell=HexPos(r=3, q=4)),\n",
       " SpawnAction(cell=HexPos(r=4, q=5)),\n",
       " SpawnAction(cell=HexPos(r=5, q=6)),\n",
       " SpawnAction(cell=HexPos(r=0, q=2)),\n",
       " SpawnAction(cell=HexPos(r=1, q=3)),\n",
       " SpawnAction(cell=HexPos(r=2, q=4)),\n",
       " SpawnAction(cell=HexPos(r=3, q=5)),\n",
       " SpawnAction(cell=HexPos(r=4, q=6)),\n",
       " SpawnAction(cell=HexPos(r=0, q=3)),\n",
       " SpawnAction(cell=HexPos(r=1, q=4)),\n",
       " SpawnAction(cell=HexPos(r=2, q=5)),\n",
       " SpawnAction(cell=HexPos(r=3, q=6)),\n",
       " SpawnAction(cell=HexPos(r=0, q=4)),\n",
       " SpawnAction(cell=HexPos(r=1, q=5)),\n",
       " SpawnAction(cell=HexPos(r=2, q=6)),\n",
       " SpawnAction(cell=HexPos(r=0, q=5)),\n",
       " SpawnAction(cell=HexPos(r=1, q=6)),\n",
       " SpawnAction(cell=HexPos(r=0, q=6))]"
      ]
     },
     "execution_count": 17,
     "metadata": {},
     "output_type": "execute_result"
    }
   ],
   "source": [
    "spawn_action = generate_spawn_actions(PlayerColor.RED, my_board)\n",
    "spawn_action"
   ]
  },
  {
   "cell_type": "code",
   "execution_count": 18,
   "metadata": {},
   "outputs": [
    {
     "data": {
      "text/plain": [
       "[SpreadAction(cell=HexPos(r=1, q=1), direction=<HexDir.DownRight: HexVec(r=0, q=1)>),\n",
       " SpreadAction(cell=HexPos(r=1, q=1), direction=<HexDir.Down: HexVec(r=-1, q=1)>),\n",
       " SpreadAction(cell=HexPos(r=1, q=1), direction=<HexDir.DownLeft: HexVec(r=-1, q=0)>),\n",
       " SpreadAction(cell=HexPos(r=1, q=1), direction=<HexDir.UpLeft: HexVec(r=0, q=-1)>),\n",
       " SpreadAction(cell=HexPos(r=1, q=1), direction=<HexDir.Up: HexVec(r=1, q=-1)>),\n",
       " SpreadAction(cell=HexPos(r=1, q=1), direction=<HexDir.UpRight: HexVec(r=1, q=0)>),\n",
       " SpawnAction(cell=HexPos(r=6, q=0)),\n",
       " SpawnAction(cell=HexPos(r=5, q=0)),\n",
       " SpawnAction(cell=HexPos(r=6, q=1)),\n",
       " SpawnAction(cell=HexPos(r=4, q=0)),\n",
       " SpawnAction(cell=HexPos(r=5, q=1)),\n",
       " SpawnAction(cell=HexPos(r=6, q=2)),\n",
       " SpawnAction(cell=HexPos(r=3, q=0)),\n",
       " SpawnAction(cell=HexPos(r=4, q=1)),\n",
       " SpawnAction(cell=HexPos(r=5, q=2)),\n",
       " SpawnAction(cell=HexPos(r=6, q=3)),\n",
       " SpawnAction(cell=HexPos(r=2, q=0)),\n",
       " SpawnAction(cell=HexPos(r=3, q=1)),\n",
       " SpawnAction(cell=HexPos(r=4, q=2)),\n",
       " SpawnAction(cell=HexPos(r=5, q=3)),\n",
       " SpawnAction(cell=HexPos(r=6, q=4)),\n",
       " SpawnAction(cell=HexPos(r=1, q=0)),\n",
       " SpawnAction(cell=HexPos(r=2, q=1)),\n",
       " SpawnAction(cell=HexPos(r=3, q=2)),\n",
       " SpawnAction(cell=HexPos(r=4, q=3)),\n",
       " SpawnAction(cell=HexPos(r=5, q=4)),\n",
       " SpawnAction(cell=HexPos(r=6, q=5)),\n",
       " SpawnAction(cell=HexPos(r=0, q=0)),\n",
       " SpawnAction(cell=HexPos(r=2, q=2)),\n",
       " SpawnAction(cell=HexPos(r=3, q=3)),\n",
       " SpawnAction(cell=HexPos(r=4, q=4)),\n",
       " SpawnAction(cell=HexPos(r=5, q=5)),\n",
       " SpawnAction(cell=HexPos(r=6, q=6)),\n",
       " SpawnAction(cell=HexPos(r=0, q=1)),\n",
       " SpawnAction(cell=HexPos(r=1, q=2)),\n",
       " SpawnAction(cell=HexPos(r=2, q=3)),\n",
       " SpawnAction(cell=HexPos(r=3, q=4)),\n",
       " SpawnAction(cell=HexPos(r=4, q=5)),\n",
       " SpawnAction(cell=HexPos(r=5, q=6)),\n",
       " SpawnAction(cell=HexPos(r=0, q=2)),\n",
       " SpawnAction(cell=HexPos(r=1, q=3)),\n",
       " SpawnAction(cell=HexPos(r=2, q=4)),\n",
       " SpawnAction(cell=HexPos(r=3, q=5)),\n",
       " SpawnAction(cell=HexPos(r=4, q=6)),\n",
       " SpawnAction(cell=HexPos(r=0, q=3)),\n",
       " SpawnAction(cell=HexPos(r=1, q=4)),\n",
       " SpawnAction(cell=HexPos(r=2, q=5)),\n",
       " SpawnAction(cell=HexPos(r=3, q=6)),\n",
       " SpawnAction(cell=HexPos(r=0, q=4)),\n",
       " SpawnAction(cell=HexPos(r=1, q=5)),\n",
       " SpawnAction(cell=HexPos(r=2, q=6)),\n",
       " SpawnAction(cell=HexPos(r=0, q=5)),\n",
       " SpawnAction(cell=HexPos(r=1, q=6)),\n",
       " SpawnAction(cell=HexPos(r=0, q=6))]"
      ]
     },
     "execution_count": 18,
     "metadata": {},
     "output_type": "execute_result"
    }
   ],
   "source": [
    "# 红方 当前回合所有可行的actions\n",
    "red_actions = red_spread + spawn_action\n",
    "red_actions"
   ]
  },
  {
   "cell_type": "code",
   "execution_count": 19,
   "metadata": {},
   "outputs": [
    {
     "data": {
      "text/plain": [
       "[SpawnAction(cell=HexPos(r=6, q=0)),\n",
       " SpawnAction(cell=HexPos(r=5, q=0)),\n",
       " SpawnAction(cell=HexPos(r=6, q=1)),\n",
       " SpawnAction(cell=HexPos(r=4, q=0)),\n",
       " SpawnAction(cell=HexPos(r=5, q=1)),\n",
       " SpawnAction(cell=HexPos(r=6, q=2)),\n",
       " SpawnAction(cell=HexPos(r=3, q=0)),\n",
       " SpawnAction(cell=HexPos(r=4, q=1)),\n",
       " SpawnAction(cell=HexPos(r=5, q=2)),\n",
       " SpawnAction(cell=HexPos(r=6, q=3)),\n",
       " SpawnAction(cell=HexPos(r=2, q=0)),\n",
       " SpawnAction(cell=HexPos(r=3, q=1)),\n",
       " SpawnAction(cell=HexPos(r=4, q=2)),\n",
       " SpawnAction(cell=HexPos(r=5, q=3)),\n",
       " SpawnAction(cell=HexPos(r=6, q=4)),\n",
       " SpawnAction(cell=HexPos(r=1, q=0)),\n",
       " SpawnAction(cell=HexPos(r=2, q=1)),\n",
       " SpawnAction(cell=HexPos(r=3, q=2)),\n",
       " SpawnAction(cell=HexPos(r=4, q=3)),\n",
       " SpawnAction(cell=HexPos(r=5, q=4)),\n",
       " SpawnAction(cell=HexPos(r=6, q=5)),\n",
       " SpawnAction(cell=HexPos(r=0, q=0)),\n",
       " SpawnAction(cell=HexPos(r=2, q=2)),\n",
       " SpawnAction(cell=HexPos(r=3, q=3)),\n",
       " SpawnAction(cell=HexPos(r=4, q=4)),\n",
       " SpawnAction(cell=HexPos(r=5, q=5)),\n",
       " SpawnAction(cell=HexPos(r=6, q=6)),\n",
       " SpawnAction(cell=HexPos(r=0, q=1)),\n",
       " SpawnAction(cell=HexPos(r=1, q=2)),\n",
       " SpawnAction(cell=HexPos(r=2, q=3)),\n",
       " SpawnAction(cell=HexPos(r=3, q=4)),\n",
       " SpawnAction(cell=HexPos(r=4, q=5)),\n",
       " SpawnAction(cell=HexPos(r=5, q=6)),\n",
       " SpawnAction(cell=HexPos(r=0, q=2)),\n",
       " SpawnAction(cell=HexPos(r=1, q=3)),\n",
       " SpawnAction(cell=HexPos(r=2, q=4)),\n",
       " SpawnAction(cell=HexPos(r=3, q=5)),\n",
       " SpawnAction(cell=HexPos(r=4, q=6)),\n",
       " SpawnAction(cell=HexPos(r=0, q=3)),\n",
       " SpawnAction(cell=HexPos(r=1, q=4)),\n",
       " SpawnAction(cell=HexPos(r=2, q=5)),\n",
       " SpawnAction(cell=HexPos(r=3, q=6)),\n",
       " SpawnAction(cell=HexPos(r=0, q=4)),\n",
       " SpawnAction(cell=HexPos(r=1, q=5)),\n",
       " SpawnAction(cell=HexPos(r=2, q=6)),\n",
       " SpawnAction(cell=HexPos(r=0, q=5)),\n",
       " SpawnAction(cell=HexPos(r=1, q=6)),\n",
       " SpawnAction(cell=HexPos(r=0, q=6))]"
      ]
     },
     "execution_count": 19,
     "metadata": {},
     "output_type": "execute_result"
    }
   ],
   "source": [
    "# 蓝方 当前回合的actions\n",
    "blue_actions = blue_spread + spawn_action\n",
    "blue_actions"
   ]
  },
  {
   "cell_type": "code",
   "execution_count": 20,
   "metadata": {},
   "outputs": [],
   "source": [
    "from typing import Union\n",
    "def get_legal_actions(color, board) -> List[Union[SpawnAction, SpreadAction]]:\n",
    "    spawn_actions = generate_spawn_actions(color, board)\n",
    "    spread_actions = generate_spread_actions(color, board)\n",
    "    return spawn_actions + spread_actions"
   ]
  },
  {
   "cell_type": "code",
   "execution_count": 21,
   "metadata": {},
   "outputs": [],
   "source": [
    "def get_opposite_color(color: PlayerColor) -> PlayerColor:\n",
    "    if color == PlayerColor.RED:\n",
    "        return PlayerColor.BLUE\n",
    "    elif color == PlayerColor.BLUE:\n",
    "        return PlayerColor.RED\n",
    "    else:\n",
    "        raise ValueError(\"Invalid player color\")"
   ]
  },
  {
   "cell_type": "code",
   "execution_count": 22,
   "metadata": {},
   "outputs": [],
   "source": [
    "def evaluate_move_value(board: Board, move):\n",
    "    if isinstance(move, SpawnAction):\n",
    "        destination_square = move.cell\n",
    "        source_piece_power = 0\n",
    "        destination_piece_power = 0\n",
    "    elif isinstance(move, SpreadAction):\n",
    "        source_square = move.cell\n",
    "        destination_square = source_square + move.direction\n",
    "        source_piece_power = board._color_power(source_square)\n",
    "        destination_piece_power = board._color_power(destination_square)\n",
    "    else:\n",
    "        raise ValueError(\"Unsupported action type\")\n",
    "\n",
    "    # Calculate the base value as the difference in piece powers\n",
    "    value = destination_piece_power - source_piece_power\n",
    "\n",
    "    # Add a bonus for capturing an opponent's piece\n",
    "    destination_cell = board.cell(destination_square)\n",
    "    if destination_cell.color == get_opposite_color(board.turn_color) and destination_cell.power > 0:\n",
    "        value += 10  # Adjust the bonus value as needed\n",
    "\n",
    "    return value\n",
    "\n",
    "\n"
   ]
  },
  {
   "cell_type": "code",
   "execution_count": 23,
   "metadata": {},
   "outputs": [],
   "source": [
    "import numpy as np\n",
    "import random\n",
    "from collections import defaultdict\n",
    "from abc import ABC, abstractmethod\n",
    "\n",
    "# MCTSNode, an abstract base class with several abstract methods and properties. \n",
    "# Any concrete subclass should implement these methods and properties according to the specific game.\n",
    "\n",
    "class MCTSNode(ABC):\n",
    "\n",
    "    def __init__(self, state, parent=None, max_depth = None):\n",
    "        # Initializes a new MCTS node with the given game state and an optional parent node.\n",
    "        self.state = state\n",
    "        self.parent = parent\n",
    "        self.children = []\n",
    "        self.max_depth = max_depth\n",
    "        self.depth = parent.depth + 1 if parent else 0\n",
    "\n",
    "    def unrealized_actions(self):\n",
    "        pass\n",
    "\n",
    "    def q(self):\n",
    "        pass\n",
    "\n",
    "    def n(self):\n",
    "        pass\n",
    "\n",
    "    def expand(self):\n",
    "        pass\n",
    "\n",
    "    def is_terminal_node(self):\n",
    "        pass\n",
    "\n",
    "    def rollout(self):\n",
    "        # 通过使用`rollout_policy()`方法选择行动来进行滚出（模拟），直到游戏达到结束状态，然后返回游戏结果\n",
    "        pass\n",
    "\n",
    "    def backpropagate(self, reward):\n",
    "        # Updates the current node and its ancestors with the given reward (game result) \n",
    "        # by incrementing the visit count and updating the `_results` dictionary.\n",
    "        pass\n",
    "\n",
    "    def is_fully_expanded(self):\n",
    "        # Checks if the node has no untried actions left.\n",
    "        return len(self.unrealized_actions()) == 0\n",
    "\n",
    "    def prune_less_promising_children(self, threshold):\n",
    "        # 识别和修剪不太有希望的分支。这可以基于访问次数、Q值或两者的组合。\n",
    "        children_to_remove = [child for child in self.children if child.n() < threshold or child.q() < threshold]\n",
    "        for child in children_to_remove:\n",
    "            self.children.remove(child)\n",
    "\n",
    "    def best_child(self, c_param=1.4):\n",
    "        # Selects the best child node using the Upper Confidence Bound (UCB) formula \n",
    "        # with a given exploration parameter.\n",
    "        choices_weights = [\n",
    "            (c.q / c.n) + c_param * np.sqrt((2 * np.log(self.n) / c.n))\n",
    "            for c in self.children\n",
    "        ]\n",
    "        return self.children[np.argmax(choices_weights)]\n",
    "\n",
    "    # def rollout_policy(self, possible_moves): \n",
    "    #     # Get the board state\n",
    "    #     board = self.state\n",
    "\n",
    "    #     # Calculate the value of each move using the heuristic\n",
    "    #     move_values = [evaluate_move_value(board, move) for move in possible_moves]\n",
    "\n",
    "    #     # Select the move with the highest value\n",
    "    #     max_value = max(move_values)\n",
    "    #     best_moves = [move for move, value in zip(possible_moves, move_values) if value == max_value]\n",
    "    #     selected_move = random.choice(best_moves)\n",
    "\n",
    "    #     return selected_move # Get the board state\n",
    "\n",
    "\n",
    "    def rollout_policy(self, legal_actions):\n",
    "        capture_actions = [action for action in legal_actions if self.is_capture_action(action)]\n",
    "        if capture_actions:\n",
    "            return random.choice(capture_actions)\n",
    "        else:\n",
    "            return random.choice(legal_actions)\n",
    "    \n",
    "    def is_capture_action(self, action):\n",
    "        # Check if the action is a SpreadAction that captures an opponent's piece\n",
    "        if isinstance(action, SpreadAction):\n",
    "            target_cell_state = self.state._state[action.cell + action.direction]\n",
    "            return target_cell_state.player != self.state.turn_color and target_cell_state.power > 0\n",
    "        return False"
   ]
  },
  {
   "cell_type": "code",
   "execution_count": 24,
   "metadata": {},
   "outputs": [],
   "source": [
    "# import copy\n",
    "\n",
    "# class CustomBoard(Board):\n",
    "#     @classmethod\n",
    "#     # A class method is a method that is bound to the class and not the instance of the object. \n",
    "#     # It can't modify the object state (as there is no instance) but can modify the class state. \n",
    "#     # Class methods are often used for creating alternative constructors, \n",
    "#     # as they have access to the class and can create new instances of it.  \n",
    "#     # the from_existing_board method is a class method that creates a new instance of the CustomBoard class \n",
    "#     # by copying the attributes from a given Board instance.\n",
    "\n",
    "#     def from_existing_board(cls, board: Board) -> \"CustomBoard\":\n",
    "#         # creates a new instance of CustomBoard, copying the attributes from the given Board instance. \n",
    "#         # new_board = cls.__new__(cls)\n",
    "#         # new_board._player_cells = copy.deepcopy(board._player_cells)\n",
    "#         # new_board._turn_color = board._turn_color\n",
    "#         # new_board._history = copy.deepcopy(board._history)\n",
    "#         # return new_board\n",
    "#         new_board = cls()\n",
    "#         new_board._state = copy.deepcopy(board._state)\n",
    "#         new_board._turn_color = board._turn_color\n",
    "#         new_board._history = copy.deepcopy(board._history)\n",
    "#         return new_board\n"
   ]
  },
  {
   "cell_type": "code",
   "execution_count": 25,
   "metadata": {},
   "outputs": [],
   "source": [
    "def copy_and_apply_action(state: Board, action) -> Board:\n",
    "    new_board = Board.from_existing_board(state)\n",
    "    new_board.apply_action(action)\n",
    "    return new_board\n"
   ]
  },
  {
   "cell_type": "code",
   "execution_count": 26,
   "metadata": {},
   "outputs": [],
   "source": [
    "# ab = copy_and_apply_action( my_board, SpawnAction(HexPos(6,6)))\n",
    "# print(ab.render())"
   ]
  },
  {
   "cell_type": "code",
   "execution_count": 27,
   "metadata": {},
   "outputs": [],
   "source": [
    "# MCTSTree class\n",
    "# provides a concrete implementation of the above abstract methods and properties.\n",
    "from referee.game.actions import Action, SpawnAction, SpreadAction\n",
    "from referee.game.exceptions import IllegalActionException\n",
    "from referee.game.board import Board\n",
    "\n",
    "class MCTSTree(MCTSNode):\n",
    "    def __init__(self, state, parent=None, max_depth=None):\n",
    "        super().__init__(state, parent, max_depth=max_depth)\n",
    "        self._num_visited = 0.\n",
    "        self._results = defaultdict(int)\n",
    "        self._unrealized_actions = None\n",
    "        self._turn_color = state._turn_color\n",
    "\n",
    "        \n",
    "    def unrealized_actions(self):\n",
    "        # getter，返回当前游戏状态下还未实现的action——list\n",
    "        if self._unrealized_actions is None:\n",
    "            self._unrealized_actions = get_legal_actions(self._turn_color, self.state)\n",
    "        return self._unrealized_actions\n",
    "    \n",
    "    def q(self):\n",
    "        # returns the Q-value (quality) for the current node.\n",
    "        win = self._results[self.parent.state.turn_color]\n",
    "        lose = self._results[-1 * self.parent.state.turn_color.opponent]\n",
    "        return win - lose\n",
    "    \n",
    "    def n(self):\n",
    "        # returns the visit count for the current node.\n",
    "        return self._num_visited\n",
    "\n",
    "    def expand(self):\n",
    "        action = self._unrealized_actions.pop()\n",
    "        next_state = copy_and_apply_action(self.state, action)\n",
    "        child_node = MCTSTree(next_state, parent=self, max_depth=self.max_depth)\n",
    "        self.children.append(child_node)\n",
    "        return child_node\n",
    "    \n",
    "    def is_terminal_node(self):\n",
    "        if self.max_depth is not None and self.depth >= self.max_depth:\n",
    "            return True\n",
    "        return self.state.game_over\n",
    "    \n",
    "    # def rollout(self):\n",
    "    #     current_rollout_state = self.state\n",
    "    #     while not current_rollout_state.game_over:\n",
    "    #         possible_moves = get_legal_actions(self._turn_color, current_rollout_state)\n",
    "    #         action = self.rollout_policy(possible_moves)\n",
    "    #         current_rollout_state = copy_and_apply_action(current_rollout_state, action)\n",
    "    #     return current_rollout_state.winner_color\n",
    "\n",
    "    def rollout(self):\n",
    "        current_rollout_state = Board.from_existing_board(self.state)\n",
    "\n",
    "        while not current_rollout_state.game_over:\n",
    "            possible_moves = get_legal_actions(current_rollout_state.turn_color, current_rollout_state)\n",
    "        \n",
    "            action = self.rollout_policy(possible_moves)\n",
    "            print(f\"Applying action: {action}\") \n",
    "            \n",
    "            current_rollout_state = copy_and_apply_action(current_rollout_state, action)\n",
    "            print(f\"New board state:\\n{current_rollout_state.render()}\")\n",
    "\n",
    "            # Update the turn color after applying the action\n",
    "            # current_rollout_state._turn_color = get_opposite_color(current_rollout_state.turn_color())\n",
    "\n",
    "        return current_rollout_state.winner_color\n",
    "\n",
    "    \n",
    "    def backpropagate(self, result):\n",
    "        self._num_visited += 1.\n",
    "        self._results[result] += 1.\n",
    "        if self.parent:\n",
    "            self.parent.backpropagate(result)\n",
    "\n",
    "    # def select_node(self):\n",
    "    #     # 这个方法使用UCT策略从根节点到叶节点遍历树\n",
    "    #     current_node = self.root\n",
    "\n",
    "    #     while not current_node.is_terminal() and not current_node.has_unexplored_actions():\n",
    "    #         current_node = current_node.select_child_uct(self.exploration_constant)\n",
    "\n",
    "    #     return current_node\n",
    "\n",
    "    # def expand_node(self, node):\n",
    "    #     action = node.unexplored_actions.pop()\n",
    "    #     next_game_state = self.apply_action(node.game_state, action)\n",
    "    #     child_node = MCTSNode(tree=self, game_state=next_game_state, parent=node, action=action)\n",
    "    #     node.children.append(child_node)\n",
    "    #     return child_node\n",
    "    \n",
    "    # def get_legal_actions(self, game_state):\n",
    "    #     if self.game_state.game_over:\n",
    "    #         return []\n",
    "    #     current_player_color = self.game_state._turn_color\n",
    "    #     spawn_actions = generate_spawn_actions(current_player_color, self.game_state)\n",
    "    #     spread_actions = generate_spread_actions(current_player_color, self.game_state)\n",
    "    #     return spawn_actions + spread_actions\n",
    "\n",
    "    # def rollout(self, node):\n",
    "    #     current_game_state = copy.deepcopy(node.game_state)\n",
    "\n",
    "    #     while not current_game_state['is_terminal']:\n",
    "    #         legal_actions = self.generate_legal_actions(current_game_state)\n",
    "    #         if not legal_actions:\n",
    "    #             break\n",
    "    #         action = random.choice(legal_actions)\n",
    "    #         current_game_state = self.apply_action(current_game_state, action)\n",
    "\n",
    "    #     reward = self.evaluate_game_state(current_game_state)\n",
    "    #     return reward\n",
    "    \n",
    "    # def evaluate_game_state(self, game_state):\n",
    "    #     # Implement your evaluation function here\n",
    "    #     pass\n",
    "\n",
    "\n",
    "    # def backpropagate(self, node, simulation_result):\n",
    "    #     while node is not None:\n",
    "    #         node.visit_count += 1\n",
    "    #         node.total_reward += simulation_result\n",
    "    #         node = node.parent\n",
    "\n",
    "    # def get_best_action(self):\n",
    "    #     best_child = max(self.root.children, key=lambda child: child.visit_count)\n",
    "    #     return best_child.action\n",
    "\n",
    "    # def apply_action(self, game_state, action):\n",
    "    #     next_game_state = copy.deepcopy(game_state)\n",
    "    #     board = next_game_state['board']\n",
    "    #     board.apply_action(action)\n",
    "        \n",
    "    #     # Update the is_terminal field\n",
    "    #     next_game_state['is_terminal'] = board.is_terminal()  # Replace this with the appropriate method for checking game over\n",
    "        \n",
    "    #     return next_game_state\n"
   ]
  },
  {
   "cell_type": "code",
   "execution_count": 28,
   "metadata": {},
   "outputs": [],
   "source": [
    "def mcts_search(state, num_iterations=1000, pruning_threshold=10, max_depth=10):\n",
    "    root = MCTSTree(state, max_depth=max_depth)\n",
    "\n",
    "    # 在每次迭代后或根据你的偏好定期调用。根据游戏和所需的修剪水平来调整修剪阈值。在每次迭代后或根据你的偏好定期调用\n",
    "\n",
    "    for i in range(num_iterations):\n",
    "        node = root\n",
    "        while not node.is_terminal_node():\n",
    "            if node.is_fully_expanded():\n",
    "                node = node.best_child()\n",
    "            else:\n",
    "                node = node.expand()\n",
    "\n",
    "        result = node.rollout()\n",
    "        node.backpropagate(result)\n",
    "\n",
    "        if i % pruning_threshold == 0:\n",
    "            root.prune_less_promising_children(pruning_threshold)\n",
    "    return root\n"
   ]
  },
  {
   "cell_type": "code",
   "execution_count": 29,
   "metadata": {},
   "outputs": [
    {
     "name": "stdout",
     "output_type": "stream",
     "text": [
      "                         ..     \n",
      "                     ..      ..     \n",
      "                 ..      ..      ..     \n",
      "             ..      ..      ..      ..     \n",
      "         ..      ..      ..      ..      ..     \n",
      "     ..      ..      ..      ..      ..      ..     \n",
      " ..      r1      ..      ..      ..      ..      ..     \n",
      "     ..      ..      ..      ..      ..      ..     \n",
      "         ..      ..      ..      ..      ..     \n",
      "             ..      ..      ..      ..     \n",
      "                 ..      ..      ..     \n",
      "                     ..      ..     \n",
      "                         ..     \n",
      "\n"
     ]
    },
    {
     "ename": "AttributeError",
     "evalue": "type object 'Board' has no attribute 'from_existing_board'",
     "output_type": "error",
     "traceback": [
      "\u001b[0;31m---------------------------------------------------------------------------\u001b[0m",
      "\u001b[0;31mAttributeError\u001b[0m                            Traceback (most recent call last)",
      "\u001b[1;32m/Users/melody/Downloads/unimelb/2023/AI/Project2/part_b/test.ipynb Cell 30\u001b[0m in \u001b[0;36m3\n\u001b[1;32m      <a href='vscode-notebook-cell:/Users/melody/Downloads/unimelb/2023/AI/Project2/part_b/test.ipynb#X32sZmlsZQ%3D%3D?line=0'>1</a>\u001b[0m initial_board \u001b[39m=\u001b[39m my_board\n\u001b[1;32m      <a href='vscode-notebook-cell:/Users/melody/Downloads/unimelb/2023/AI/Project2/part_b/test.ipynb#X32sZmlsZQ%3D%3D?line=1'>2</a>\u001b[0m \u001b[39mprint\u001b[39m(my_board\u001b[39m.\u001b[39mrender())\n\u001b[0;32m----> <a href='vscode-notebook-cell:/Users/melody/Downloads/unimelb/2023/AI/Project2/part_b/test.ipynb#X32sZmlsZQ%3D%3D?line=2'>3</a>\u001b[0m root \u001b[39m=\u001b[39m mcts_search(initial_board)\n\u001b[1;32m      <a href='vscode-notebook-cell:/Users/melody/Downloads/unimelb/2023/AI/Project2/part_b/test.ipynb#X32sZmlsZQ%3D%3D?line=4'>5</a>\u001b[0m best_action \u001b[39m=\u001b[39m root\u001b[39m.\u001b[39mbest_child(c_param\u001b[39m=\u001b[39m\u001b[39m0.\u001b[39m)\u001b[39m.\u001b[39mstate\n\u001b[1;32m      <a href='vscode-notebook-cell:/Users/melody/Downloads/unimelb/2023/AI/Project2/part_b/test.ipynb#X32sZmlsZQ%3D%3D?line=5'>6</a>\u001b[0m root\u001b[39m.\u001b[39munrealized_actions()\u001b[39m.\u001b[39mremove(best_action)\n",
      "\u001b[1;32m/Users/melody/Downloads/unimelb/2023/AI/Project2/part_b/test.ipynb Cell 30\u001b[0m in \u001b[0;36m1\n\u001b[1;32m     <a href='vscode-notebook-cell:/Users/melody/Downloads/unimelb/2023/AI/Project2/part_b/test.ipynb#X32sZmlsZQ%3D%3D?line=9'>10</a>\u001b[0m         node \u001b[39m=\u001b[39m node\u001b[39m.\u001b[39mbest_child()\n\u001b[1;32m     <a href='vscode-notebook-cell:/Users/melody/Downloads/unimelb/2023/AI/Project2/part_b/test.ipynb#X32sZmlsZQ%3D%3D?line=10'>11</a>\u001b[0m     \u001b[39melse\u001b[39;00m:\n\u001b[0;32m---> <a href='vscode-notebook-cell:/Users/melody/Downloads/unimelb/2023/AI/Project2/part_b/test.ipynb#X32sZmlsZQ%3D%3D?line=11'>12</a>\u001b[0m         node \u001b[39m=\u001b[39m node\u001b[39m.\u001b[39;49mexpand()\n\u001b[1;32m     <a href='vscode-notebook-cell:/Users/melody/Downloads/unimelb/2023/AI/Project2/part_b/test.ipynb#X32sZmlsZQ%3D%3D?line=13'>14</a>\u001b[0m result \u001b[39m=\u001b[39m node\u001b[39m.\u001b[39mrollout()\n\u001b[1;32m     <a href='vscode-notebook-cell:/Users/melody/Downloads/unimelb/2023/AI/Project2/part_b/test.ipynb#X32sZmlsZQ%3D%3D?line=14'>15</a>\u001b[0m node\u001b[39m.\u001b[39mbackpropagate(result)\n",
      "\u001b[1;32m/Users/melody/Downloads/unimelb/2023/AI/Project2/part_b/test.ipynb Cell 30\u001b[0m in \u001b[0;36m3\n\u001b[1;32m     <a href='vscode-notebook-cell:/Users/melody/Downloads/unimelb/2023/AI/Project2/part_b/test.ipynb#X32sZmlsZQ%3D%3D?line=31'>32</a>\u001b[0m \u001b[39mdef\u001b[39;00m \u001b[39mexpand\u001b[39m(\u001b[39mself\u001b[39m):\n\u001b[1;32m     <a href='vscode-notebook-cell:/Users/melody/Downloads/unimelb/2023/AI/Project2/part_b/test.ipynb#X32sZmlsZQ%3D%3D?line=32'>33</a>\u001b[0m     action \u001b[39m=\u001b[39m \u001b[39mself\u001b[39m\u001b[39m.\u001b[39m_unrealized_actions\u001b[39m.\u001b[39mpop()\n\u001b[0;32m---> <a href='vscode-notebook-cell:/Users/melody/Downloads/unimelb/2023/AI/Project2/part_b/test.ipynb#X32sZmlsZQ%3D%3D?line=33'>34</a>\u001b[0m     next_state \u001b[39m=\u001b[39m copy_and_apply_action(\u001b[39mself\u001b[39;49m\u001b[39m.\u001b[39;49mstate, action)\n\u001b[1;32m     <a href='vscode-notebook-cell:/Users/melody/Downloads/unimelb/2023/AI/Project2/part_b/test.ipynb#X32sZmlsZQ%3D%3D?line=34'>35</a>\u001b[0m     child_node \u001b[39m=\u001b[39m MCTSTree(next_state, parent\u001b[39m=\u001b[39m\u001b[39mself\u001b[39m, max_depth\u001b[39m=\u001b[39m\u001b[39mself\u001b[39m\u001b[39m.\u001b[39mmax_depth)\n\u001b[1;32m     <a href='vscode-notebook-cell:/Users/melody/Downloads/unimelb/2023/AI/Project2/part_b/test.ipynb#X32sZmlsZQ%3D%3D?line=35'>36</a>\u001b[0m     \u001b[39mself\u001b[39m\u001b[39m.\u001b[39mchildren\u001b[39m.\u001b[39mappend(child_node)\n",
      "\u001b[1;32m/Users/melody/Downloads/unimelb/2023/AI/Project2/part_b/test.ipynb Cell 30\u001b[0m in \u001b[0;36m2\n\u001b[1;32m      <a href='vscode-notebook-cell:/Users/melody/Downloads/unimelb/2023/AI/Project2/part_b/test.ipynb#X32sZmlsZQ%3D%3D?line=0'>1</a>\u001b[0m \u001b[39mdef\u001b[39;00m \u001b[39mcopy_and_apply_action\u001b[39m(state: Board, action) \u001b[39m-\u001b[39m\u001b[39m>\u001b[39m Board:\n\u001b[0;32m----> <a href='vscode-notebook-cell:/Users/melody/Downloads/unimelb/2023/AI/Project2/part_b/test.ipynb#X32sZmlsZQ%3D%3D?line=1'>2</a>\u001b[0m     new_board \u001b[39m=\u001b[39m Board\u001b[39m.\u001b[39;49mfrom_existing_board(state)\n\u001b[1;32m      <a href='vscode-notebook-cell:/Users/melody/Downloads/unimelb/2023/AI/Project2/part_b/test.ipynb#X32sZmlsZQ%3D%3D?line=2'>3</a>\u001b[0m     new_board\u001b[39m.\u001b[39mapply_action(action)\n\u001b[1;32m      <a href='vscode-notebook-cell:/Users/melody/Downloads/unimelb/2023/AI/Project2/part_b/test.ipynb#X32sZmlsZQ%3D%3D?line=3'>4</a>\u001b[0m     \u001b[39mreturn\u001b[39;00m new_board\n",
      "\u001b[0;31mAttributeError\u001b[0m: type object 'Board' has no attribute 'from_existing_board'"
     ]
    }
   ],
   "source": [
    "initial_board = my_board\n",
    "print(my_board.render())\n",
    "root = mcts_search(initial_board)\n",
    "\n",
    "best_action = root.best_child(c_param=0.).state\n",
    "root.unrealized_actions().remove(best_action)\n",
    "\n",
    "next_best_action = mcts_search(initial_board).best_child(c_param=0.).state\n"
   ]
  }
 ],
 "metadata": {
  "kernelspec": {
   "display_name": "Python 3",
   "language": "python",
   "name": "python3"
  },
  "language_info": {
   "codemirror_mode": {
    "name": "ipython",
    "version": 3
   },
   "file_extension": ".py",
   "mimetype": "text/x-python",
   "name": "python",
   "nbconvert_exporter": "python",
   "pygments_lexer": "ipython3",
   "version": "3.10.7"
  },
  "orig_nbformat": 4
 },
 "nbformat": 4,
 "nbformat_minor": 2
}
