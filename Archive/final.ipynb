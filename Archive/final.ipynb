{
 "cells": [
  {
   "cell_type": "code",
   "execution_count": 6,
   "metadata": {},
   "outputs": [
    {
     "name": "stdout",
     "output_type": "stream",
     "text": [
      "SPREAD 3 3 1 0\n",
      "SPREAD 2 3 0 -1\n",
      "SPREAD 5 3 -1 1\n",
      "SPREAD 2 2 -1 1\n",
      "SPREAD 1 3 0 -1\n",
      "SPREAD 6 5 -1 0\n",
      "SPREAD 5 6 1 0\n",
      "SPREAD 1 1 0 -1\n",
      "SPREAD 1 0 -1 0\n"
     ]
    }
   ],
   "source": [
    "import search\n",
    "!python3 -m search < test5.csv"
   ]
  }
 ],
 "metadata": {
  "kernelspec": {
   "display_name": "Python 3",
   "language": "python",
   "name": "python3"
  },
  "language_info": {
   "codemirror_mode": {
    "name": "ipython",
    "version": 3
   },
   "file_extension": ".py",
   "mimetype": "text/x-python",
   "name": "python",
   "nbconvert_exporter": "python",
   "pygments_lexer": "ipython3",
   "version": "3.10.7"
  },
  "orig_nbformat": 4
 },
 "nbformat": 4,
 "nbformat_minor": 2
}
